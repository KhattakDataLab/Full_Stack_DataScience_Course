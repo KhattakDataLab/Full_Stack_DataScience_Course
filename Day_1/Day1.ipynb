{
 "cells": [
  {
   "cell_type": "markdown",
   "id": "659305d9-ab95-4bf9-8d68-7f164140784e",
   "metadata": {},
   "source": [
    "# Day 1  : Basics of Python \n"
   ]
  },
  {
   "cell_type": "markdown",
   "id": "e8c77b51-bb9f-4eec-bc71-69c663bdaa1a",
   "metadata": {},
   "source": [
    "#### Variable and Data types \n",
    "###### Variable are used to store the data,"
   ]
  },
  {
   "cell_type": "code",
   "execution_count": 5,
   "id": "aa4ad5bf-0430-43d6-92ef-4f80b0831704",
   "metadata": {},
   "outputs": [
    {
     "name": "stdout",
     "output_type": "stream",
     "text": [
      "10 Zeeshan\n"
     ]
    }
   ],
   "source": [
    "x =10 # int \n",
    "name ='Zeeshan' # string \n",
    "\n",
    "print(x,name)"
   ]
  },
  {
   "cell_type": "markdown",
   "id": "8fb2453d-0a4f-406d-b7d2-c797ea98aa97",
   "metadata": {},
   "source": [
    "## Controll flow "
   ]
  },
  {
   "cell_type": "markdown",
   "id": "c2f926ef-3c41-4acc-b231-6c1085ada790",
   "metadata": {},
   "source": [
    "#### if Else Statment"
   ]
  },
  {
   "cell_type": "code",
   "execution_count": 7,
   "id": "227e299a-fc39-435f-a130-bfe0bf793744",
   "metadata": {},
   "outputs": [
    {
     "name": "stdout",
     "output_type": "stream",
     "text": [
      "x is less than 10 \n"
     ]
    }
   ],
   "source": [
    "if x>10:\n",
    "    print('X is greater than 10 ')\n",
    "else:\n",
    "    print('x is less than 10 ')"
   ]
  },
  {
   "cell_type": "markdown",
   "id": "5d76af6d-fd7c-4102-8861-15f434565729",
   "metadata": {},
   "source": [
    "### For Loop "
   ]
  },
  {
   "cell_type": "code",
   "execution_count": 10,
   "id": "2eb3918b-6958-42d9-8756-a2e585528c6c",
   "metadata": {},
   "outputs": [
    {
     "name": "stdout",
     "output_type": "stream",
     "text": [
      "0\n",
      "1\n",
      "2\n",
      "3\n",
      "4\n"
     ]
    }
   ],
   "source": [
    "for i in range(5):\n",
    "    print(i)"
   ]
  },
  {
   "cell_type": "markdown",
   "id": "4cd3dc12-178a-4ee2-8629-f93008afb8d5",
   "metadata": {},
   "source": [
    "### while loop \n"
   ]
  },
  {
   "cell_type": "code",
   "execution_count": 11,
   "id": "b208a329-75dc-4986-9c71-ccadd607b21d",
   "metadata": {},
   "outputs": [
    {
     "name": "stdout",
     "output_type": "stream",
     "text": [
      "0\n",
      "1\n",
      "2\n",
      "3\n",
      "4\n"
     ]
    }
   ],
   "source": [
    "count = 0 \n",
    "while count < 5 :\n",
    "    print(count)\n",
    "    count+=1"
   ]
  },
  {
   "cell_type": "markdown",
   "id": "6d451432-e099-41d2-864c-4b759ff1174b",
   "metadata": {},
   "source": [
    "### python Functon "
   ]
  },
  {
   "cell_type": "code",
   "execution_count": 15,
   "id": "cf731ad6-0db7-4696-88a9-8b9e2cee057a",
   "metadata": {},
   "outputs": [],
   "source": [
    "def greating(name):\n",
    "    return f\"Hello ,{name} \""
   ]
  },
  {
   "cell_type": "code",
   "execution_count": 16,
   "id": "6f579c33-43c1-425e-919c-74aa7e26be18",
   "metadata": {},
   "outputs": [
    {
     "name": "stdout",
     "output_type": "stream",
     "text": [
      "Hello ,Zeeshan \n"
     ]
    }
   ],
   "source": [
    "print(greating('Zeeshan'))"
   ]
  },
  {
   "cell_type": "markdown",
   "id": "42b4c542-a1ad-406d-9d39-46e7f342c498",
   "metadata": {},
   "source": [
    "### Data Structure "
   ]
  },
  {
   "cell_type": "code",
   "execution_count": 17,
   "id": "5d747bbb-1c22-46a0-9d90-07d18cee1baf",
   "metadata": {},
   "outputs": [],
   "source": [
    "## Lists \n",
    "fruit=['apple','Banana','cherry']"
   ]
  },
  {
   "cell_type": "code",
   "execution_count": 18,
   "id": "06750204-171d-4e4c-aeb3-647b46728e63",
   "metadata": {},
   "outputs": [],
   "source": [
    "# Dictionaries \n",
    "Student = {'name':'Zeeshan','Age':22,'Position':'Data Science'}"
   ]
  },
  {
   "cell_type": "code",
   "execution_count": 19,
   "id": "3ab75c4a-333e-431e-a5bc-3fdd41e96dcd",
   "metadata": {},
   "outputs": [],
   "source": [
    "## Tuples\n",
    "point=(3,2)"
   ]
  },
  {
   "cell_type": "code",
   "execution_count": 20,
   "id": "451a9fff-fad9-414a-ab25-60a15a6ff33d",
   "metadata": {},
   "outputs": [],
   "source": [
    "# Set \n",
    "unique_No={1,2,3}"
   ]
  },
  {
   "cell_type": "code",
   "execution_count": 22,
   "id": "2b1053b8-a084-4acc-9a95-001094323df8",
   "metadata": {},
   "outputs": [
    {
     "name": "stdout",
     "output_type": "stream",
     "text": [
      "['apple', 'Banana', 'cherry']\n",
      "{'name': 'Zeeshan', 'Age': 22, 'Position': 'Data Science'}\n",
      "(3, 2)\n",
      "{1, 2, 3}\n"
     ]
    }
   ],
   "source": [
    "print(fruit)## list\n",
    "print(Student) # dictionary \n",
    "print(point) # Tuple\n",
    "print(unique_No)# Set"
   ]
  },
  {
   "cell_type": "code",
   "execution_count": null,
   "id": "87bb0e94-b5fb-4785-8ff1-ce8f4404437e",
   "metadata": {},
   "outputs": [],
   "source": []
  },
  {
   "cell_type": "markdown",
   "id": "95b88921-6a42-4b40-bc2a-f8953793e64b",
   "metadata": {},
   "source": [
    "## Practical implementation of the above code \n",
    "### Lets Make a Simple Calculator \n",
    "##### Which perform the Basic Arithmatic Operation (+,-,*,/)"
   ]
  },
  {
   "cell_type": "code",
   "execution_count": 31,
   "id": "afa0e4a5-7704-489c-ae35-6ec83379e59f",
   "metadata": {},
   "outputs": [
    {
     "name": "stdin",
     "output_type": "stream",
     "text": [
      "Enter First Number:  234\n",
      "Enter Second Number:  2\n",
      "Enter Operation (+, -, *, /):  /\n"
     ]
    },
    {
     "name": "stdout",
     "output_type": "stream",
     "text": [
      "117.0\n"
     ]
    }
   ],
   "source": [
    "def calculator():\n",
    "    try:\n",
    "        # Input\n",
    "        num1 = float(input('Enter First Number: '))\n",
    "        num2 = float(input('Enter Second Number: '))\n",
    "        operation = input('Enter Operation (+, -, *, /): ')\n",
    "\n",
    "        # Calculation\n",
    "        if operation == '+':\n",
    "            result = num1 + num2\n",
    "        elif operation == '-':\n",
    "            result = num1 - num2\n",
    "        elif operation == '*':\n",
    "            result = num1 * num2\n",
    "        elif operation == '/':\n",
    "            if num2 != 0:\n",
    "                result = num1 / num2\n",
    "            else:\n",
    "                return 'Error: Division by zero is not allowed.'\n",
    "        else:\n",
    "            return 'Invalid operation'\n",
    "\n",
    "        return result\n",
    "    except ValueError:\n",
    "        return 'Invalid input. Please enter numeric values for the numbers.'\n",
    "\n",
    "# Example usage\n",
    "print(calculator())\n"
   ]
  },
  {
   "cell_type": "markdown",
   "id": "a28e02b7-e03d-454d-8c50-e5cb9e302bab",
   "metadata": {},
   "source": [
    "## Task 2 Student Grading System "
   ]
  },
  {
   "cell_type": "code",
   "execution_count": 32,
   "id": "6edad3c7-98e0-4940-898d-e7952f7260db",
   "metadata": {},
   "outputs": [
    {
     "name": "stdin",
     "output_type": "stream",
     "text": [
      "Enter student name (or 'done' to finish):  zeeshan\n",
      "Enter grade for zeeshan:  89\n",
      "Enter student name (or 'done' to finish):  maryam\n",
      "Enter grade for maryam:  80\n",
      "Enter student name (or 'done' to finish):  done\n"
     ]
    },
    {
     "name": "stdout",
     "output_type": "stream",
     "text": [
      "Average grade: 84.5\n",
      "Highest grade: 89.0\n",
      "Lowest grade: 80.0\n"
     ]
    }
   ],
   "source": [
    "def grading_system():\n",
    "    students = {}\n",
    "    while True:\n",
    "        name = input(\"Enter student name (or 'done' to finish): \")\n",
    "        if name.lower() == 'done':\n",
    "            break\n",
    "        grade = float(input(f\"Enter grade for {name}: \"))\n",
    "        students[name] = grade\n",
    "\n",
    "    if students:\n",
    "        avg_grade = sum(students.values()) / len(students)\n",
    "        highest_grade = max(students.values())\n",
    "        lowest_grade = min(students.values())\n",
    "\n",
    "        print(f\"Average grade: {avg_grade}\")\n",
    "        print(f\"Highest grade: {highest_grade}\")\n",
    "        print(f\"Lowest grade: {lowest_grade}\")\n",
    "    else:\n",
    "        print(\"No student data available.\")\n",
    "\n",
    "grading_system()\n"
   ]
  },
  {
   "cell_type": "code",
   "execution_count": null,
   "id": "0b4f67aa-08d9-46a4-a260-819811f841a2",
   "metadata": {},
   "outputs": [],
   "source": []
  },
  {
   "cell_type": "raw",
   "id": "5f6ef8c8-a283-4ff2-bfdb-623ed7490876",
   "metadata": {},
   "source": [
    "3. Case Study/Project Task (30 minutes)\n",
    "Case Study: Sales Data Processing\n",
    "\n",
    "Create a Python script to process a list of sales transactions.\n",
    "Calculate total sales, average sales, and the highest sale.\n",
    "Use lists and loops for the task."
   ]
  },
  {
   "cell_type": "code",
   "execution_count": 33,
   "id": "833bdaec-d496-4887-b1d0-f114ff329ee9",
   "metadata": {},
   "outputs": [],
   "source": [
    "def Sales_data():\n",
    "    sales=[69.8,54.8,89,50,100,89]\n",
    "    total_sales=sum(sales)\n",
    "    Avg_sales=total_sales/len(sales)\n",
    "    Heighst_sales=max(sales)\n",
    "\n",
    "\n",
    "    print(f'The total Sales is {total_sales}')\n",
    "    print(f'the Average Sales is {Avg_sales}')\n",
    "    print(f'The Heighst Sales is {Heighst_sales}')\n",
    "\n",
    "\n",
    "\n",
    "\n",
    "    \n",
    "\n",
    "\n"
   ]
  },
  {
   "cell_type": "code",
   "execution_count": 34,
   "id": "b93d7a4b-35ee-489e-9c6f-32daf9a6c03b",
   "metadata": {},
   "outputs": [
    {
     "name": "stdout",
     "output_type": "stream",
     "text": [
      "The total Sales is 452.6\n",
      "the Average Sales is 75.43333333333334\n",
      "The Heighst Sales is 100\n"
     ]
    }
   ],
   "source": [
    "Sales_data()"
   ]
  },
  {
   "cell_type": "code",
   "execution_count": null,
   "id": "51aae5e2-cb53-456e-973d-04fca02da7c3",
   "metadata": {},
   "outputs": [],
   "source": []
  }
 ],
 "metadata": {
  "kernelspec": {
   "display_name": "Python 3 (ipykernel)",
   "language": "python",
   "name": "python3"
  },
  "language_info": {
   "codemirror_mode": {
    "name": "ipython",
    "version": 3
   },
   "file_extension": ".py",
   "mimetype": "text/x-python",
   "name": "python",
   "nbconvert_exporter": "python",
   "pygments_lexer": "ipython3",
   "version": "3.8.19"
  }
 },
 "nbformat": 4,
 "nbformat_minor": 5
}
