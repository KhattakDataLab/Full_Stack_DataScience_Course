{
 "cells": [
  {
   "cell_type": "markdown",
   "metadata": {},
   "source": [
    "# 1.List \n",
    "##### Lists are Ordered ,mutable collection of elements .they can storre multiple data types "
   ]
  },
  {
   "cell_type": "code",
   "execution_count": 1,
   "metadata": {},
   "outputs": [
    {
     "name": "stdout",
     "output_type": "stream",
     "text": [
      "['mango', 'banana', 'çherry']\n"
     ]
    }
   ],
   "source": [
    "# creating a list \n",
    "fruits = ['mango','banana','çherry']\n",
    "print(fruits)"
   ]
  },
  {
   "cell_type": "code",
   "execution_count": 2,
   "metadata": {},
   "outputs": [
    {
     "name": "stdout",
     "output_type": "stream",
     "text": [
      "mango\n"
     ]
    }
   ],
   "source": [
    "## Accesing elements \n",
    "## access the first element \n",
    "print(fruits[0])"
   ]
  },
  {
   "cell_type": "code",
   "execution_count": 3,
   "metadata": {},
   "outputs": [
    {
     "name": "stdout",
     "output_type": "stream",
     "text": [
      "çherry\n"
     ]
    }
   ],
   "source": [
    "# Accessing the last element \n",
    "print(fruits[-1])"
   ]
  },
  {
   "cell_type": "code",
   "execution_count": 4,
   "metadata": {},
   "outputs": [
    {
     "name": "stdout",
     "output_type": "stream",
     "text": [
      "['mango', 'banana', 'çherry', 'Orange']\n"
     ]
    }
   ],
   "source": [
    "## List operation \n",
    "fruits.append('Orange')\n",
    "print(fruits)"
   ]
  },
  {
   "cell_type": "code",
   "execution_count": 5,
   "metadata": {},
   "outputs": [
    {
     "name": "stdout",
     "output_type": "stream",
     "text": [
      "['mango', 'Kivi', 'banana', 'çherry', 'Orange']\n"
     ]
    }
   ],
   "source": [
    "# Insert elemetn on specific position \n",
    "fruits.insert(1,'Kivi')\n",
    "print(fruits)"
   ]
  },
  {
   "cell_type": "code",
   "execution_count": 6,
   "metadata": {},
   "outputs": [
    {
     "name": "stdout",
     "output_type": "stream",
     "text": [
      "['mango', 'Kivi', 'çherry', 'Orange']\n"
     ]
    }
   ],
   "source": [
    "# Removing Elements From List\n",
    "fruits.remove('banana')\n",
    "print(fruits)"
   ]
  },
  {
   "cell_type": "code",
   "execution_count": null,
   "metadata": {},
   "outputs": [],
   "source": []
  },
  {
   "cell_type": "markdown",
   "metadata": {},
   "source": [
    "## tuples"
   ]
  },
  {
   "cell_type": "code",
   "execution_count": 7,
   "metadata": {},
   "outputs": [
    {
     "name": "stdout",
     "output_type": "stream",
     "text": [
      "(10, 20)\n"
     ]
    }
   ],
   "source": [
    "# tuples are orderd immutable collection of elements \n",
    "# creaating a Tuples \n",
    "coordinate = (10,20)\n",
    "print(coordinate)"
   ]
  },
  {
   "cell_type": "code",
   "execution_count": 8,
   "metadata": {},
   "outputs": [
    {
     "name": "stdout",
     "output_type": "stream",
     "text": [
      "20\n"
     ]
    }
   ],
   "source": [
    "# Accessing elemnt \n",
    "print(coordinate[1])"
   ]
  },
  {
   "cell_type": "markdown",
   "metadata": {},
   "source": [
    "## dictionaries \n",
    "#### Dictionaries store key - value "
   ]
  },
  {
   "cell_type": "code",
   "execution_count": 9,
   "metadata": {},
   "outputs": [
    {
     "name": "stdout",
     "output_type": "stream",
     "text": [
      "{'Name': 'Zeeshan', 'Age': 22, 'Course': 'Data Science'}\n"
     ]
    }
   ],
   "source": [
    "# creating a  dictonaries \n",
    "students ={'Name':'Zeeshan','Age':22,'Course':'Data Science'}\n",
    "\n",
    "print(students)"
   ]
  },
  {
   "cell_type": "code",
   "execution_count": 10,
   "metadata": {},
   "outputs": [
    {
     "name": "stdout",
     "output_type": "stream",
     "text": [
      "Zeeshan\n"
     ]
    }
   ],
   "source": [
    "# Accessing the value \n",
    "print(students['Name'])"
   ]
  },
  {
   "cell_type": "code",
   "execution_count": 11,
   "metadata": {},
   "outputs": [
    {
     "name": "stdout",
     "output_type": "stream",
     "text": [
      "{'Name': 'Zeeshan', 'Age': 22, 'Course': 'Data Science', 'Grade': 'A'}\n"
     ]
    }
   ],
   "source": [
    "# Adding new key -value pair \n",
    "students['Grade']='A'\n",
    "print(students)"
   ]
  },
  {
   "cell_type": "code",
   "execution_count": 12,
   "metadata": {},
   "outputs": [],
   "source": [
    "# removing a key value pair from dic \n",
    "del students['Age']"
   ]
  },
  {
   "cell_type": "code",
   "execution_count": 13,
   "metadata": {},
   "outputs": [
    {
     "name": "stdout",
     "output_type": "stream",
     "text": [
      "{'Name': 'Zeeshan', 'Course': 'Data Science', 'Grade': 'A'}\n"
     ]
    }
   ],
   "source": [
    "print(students)"
   ]
  },
  {
   "cell_type": "code",
   "execution_count": null,
   "metadata": {},
   "outputs": [],
   "source": []
  },
  {
   "cell_type": "markdown",
   "metadata": {},
   "source": [
    "## Sets"
   ]
  },
  {
   "cell_type": "code",
   "execution_count": 14,
   "metadata": {},
   "outputs": [
    {
     "name": "stdout",
     "output_type": "stream",
     "text": [
      "{'green', 'blue', 'red'}\n"
     ]
    }
   ],
   "source": [
    "# Creatin a Set \n",
    "colors={'red','blue','green'}\n",
    "print(colors)"
   ]
  },
  {
   "cell_type": "code",
   "execution_count": 15,
   "metadata": {},
   "outputs": [
    {
     "name": "stdout",
     "output_type": "stream",
     "text": [
      "{'green', 'Pink', 'blue', 'red'}\n"
     ]
    }
   ],
   "source": [
    "# Adding elment \n",
    "colors.add('Pink')\n",
    "print(colors)"
   ]
  },
  {
   "cell_type": "code",
   "execution_count": 18,
   "metadata": {},
   "outputs": [
    {
     "name": "stdout",
     "output_type": "stream",
     "text": [
      "{'Cherry', 'Banana', 'Apple'}\n"
     ]
    }
   ],
   "source": [
    "# Union of Two Set \n",
    "set_1={'Apple','Banana'}\n",
    "set_2={'Banana','Cherry'}\n",
    "Union_set=set_1.union(set_2)\n",
    "print(Union_set)"
   ]
  },
  {
   "cell_type": "markdown",
   "metadata": {},
   "source": [
    "# Practicall Task"
   ]
  },
  {
   "cell_type": "code",
   "execution_count": 19,
   "metadata": {},
   "outputs": [
    {
     "name": "stdout",
     "output_type": "stream",
     "text": [
      "Grade for Math has been set to 85.\n",
      "Grade for Science has been set to 90.\n",
      "Grade for English has been set to 78.\n",
      "Grade for History has been set to 88.\n",
      "Grade for Math has been set to 92.\n",
      "The average grade is: 87.00\n"
     ]
    }
   ],
   "source": [
    "# Initialize an empty dictionary to store subjects and grades\n",
    "grades = {}\n",
    "\n",
    "# Function to add or update a grade\n",
    "def add_or_update_grade(subject, grade):\n",
    "    grades[subject] = grade\n",
    "    print(f\"Grade for {subject} has been set to {grade}.\")\n",
    "\n",
    "# Function to calculate the average grade\n",
    "def calculate_average_grade():\n",
    "    if len(grades) == 0:\n",
    "        print(\"No grades available to calculate average.\")\n",
    "        return None\n",
    "    total = sum(grades.values())\n",
    "    average = total / len(grades)\n",
    "    return average\n",
    "\n",
    "# Adding or updating grades\n",
    "add_or_update_grade(\"Math\", 85)\n",
    "add_or_update_grade(\"Science\", 90)\n",
    "add_or_update_grade(\"English\", 78)\n",
    "add_or_update_grade(\"History\", 88)\n",
    "\n",
    "# Updating a grade\n",
    "add_or_update_grade(\"Math\", 92)\n",
    "\n",
    "# Calculating and printing the average grade\n",
    "average_grade = calculate_average_grade()\n",
    "if average_grade is not None:\n",
    "    print(f\"The average grade is: {average_grade:.2f}\")\n"
   ]
  },
  {
   "cell_type": "markdown",
   "metadata": {},
   "source": []
  }
 ],
 "metadata": {
  "kernelspec": {
   "display_name": "Python 3",
   "language": "python",
   "name": "python3"
  },
  "language_info": {
   "codemirror_mode": {
    "name": "ipython",
    "version": 3
   },
   "file_extension": ".py",
   "mimetype": "text/x-python",
   "name": "python",
   "nbconvert_exporter": "python",
   "pygments_lexer": "ipython3",
   "version": "3.12.0"
  }
 },
 "nbformat": 4,
 "nbformat_minor": 2
}
