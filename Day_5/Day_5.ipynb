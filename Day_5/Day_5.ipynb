{
 "cells": [
  {
   "cell_type": "markdown",
   "metadata": {},
   "source": [
    "### Data Cleanig And Preprocessing "
   ]
  },
  {
   "cell_type": "markdown",
   "metadata": {},
   "source": [
    "### Example Handling Missing Values And Encoding Categoricall Variabales"
   ]
  },
  {
   "cell_type": "code",
   "execution_count": 2,
   "metadata": {},
   "outputs": [],
   "source": [
    "import pandas as pd \n",
    "import numpy as np \n",
    "from sklearn.preprocessing import  OneHotEncoder,LabelEncoder\n",
    "from sklearn.impute import SimpleImputer\n",
    "\n"
   ]
  },
  {
   "cell_type": "code",
   "execution_count": 5,
   "metadata": {},
   "outputs": [
    {
     "name": "stdout",
     "output_type": "stream",
     "text": [
      "Orignal DataFrame\n",
      "      Name   Age      City   Salary\n",
      "0  Zeeshan  22.0  New York  70000.0\n",
      "1     Khan   NaN   Germany  80000.0\n",
      "2   Ayesha  20.0    Turkey  12000.0\n",
      "3   Maryam  22.0       NaN      NaN\n",
      "4  Khattak  21.0  Pakistan  60000.0\n"
     ]
    }
   ],
   "source": [
    "# Sample DataFrame With Missing value and categorical data \n",
    "\n",
    "data = {\n",
    "    'Name' : ['Zeeshan','Khan','Ayesha','Maryam','Khattak'],\n",
    "    'Age' :[22,np.nan,20,22,21],\n",
    "    'City':['New York','Germany','Turkey',np.nan,'Pakistan'],\n",
    "    'Salary':[70000,80000,12000,np.nan,60000]\n",
    "}\n",
    "\n",
    "df=pd.DataFrame(data)\n",
    "\n",
    "print('Orignal DataFrame')\n",
    "print(df)"
   ]
  },
  {
   "cell_type": "code",
   "execution_count": 7,
   "metadata": {},
   "outputs": [],
   "source": [
    "#Handling Missing Value \n",
    "# impute Missing Age with the Mean Age \n",
    "imputer_age =SimpleImputer(strategy='mean')\n",
    "df['Age']=imputer_age.fit_transform(df[['Age']])"
   ]
  },
  {
   "cell_type": "code",
   "execution_count": 8,
   "metadata": {},
   "outputs": [],
   "source": [
    "# Impute Missing Salary With the Median Salary \n",
    "imputer_salary=SimpleImputer(strategy='median')\n",
    "df['Salary']=imputer_salary.fit_transform(df[['Salary']])"
   ]
  },
  {
   "cell_type": "code",
   "execution_count": 14,
   "metadata": {},
   "outputs": [],
   "source": [
    "# Impute missing City with the mode\n",
    "imputer_city = SimpleImputer(strategy='most_frequent')\n",
    "df['City'] = imputer_city.fit_transform(df[['City']]).ravel()\n"
   ]
  },
  {
   "cell_type": "code",
   "execution_count": 20,
   "metadata": {},
   "outputs": [
    {
     "name": "stdout",
     "output_type": "stream",
     "text": [
      "\n",
      "Data Frame After Handling Missing Values\n",
      "      Name    Age      City   Salary\n",
      "0  Zeeshan  22.00  New York  70000.0\n",
      "1     Khan  21.25   Germany  80000.0\n",
      "2   Ayesha  20.00    Turkey  12000.0\n",
      "3   Maryam  22.00   Germany  65000.0\n",
      "4  Khattak  21.00  Pakistan  60000.0\n"
     ]
    }
   ],
   "source": [
    "print('\\nData Frame After Handling Missing Values')\n",
    "\n",
    "print(df)"
   ]
  },
  {
   "cell_type": "code",
   "execution_count": 23,
   "metadata": {},
   "outputs": [],
   "source": [
    "## Encoding Categoricall Variabale \n",
    "\n",
    "## One Hot Encoding for 'City'\n",
    "df = pd.get_dummies(df,columns=['City'],drop_first=True)"
   ]
  },
  {
   "cell_type": "code",
   "execution_count": 25,
   "metadata": {},
   "outputs": [
    {
     "name": "stdout",
     "output_type": "stream",
     "text": [
      "\n",
      "DataFrame After One Hot-Hot Encoding:\n",
      "      Name    Age   Salary  City_New York  City_Pakistan  City_Turkey\n",
      "0  Zeeshan  22.00  70000.0           True          False        False\n",
      "1     Khan  21.25  80000.0          False          False        False\n",
      "2   Ayesha  20.00  12000.0          False          False         True\n",
      "3   Maryam  22.00  65000.0          False          False        False\n",
      "4  Khattak  21.00  60000.0          False           True        False\n"
     ]
    }
   ],
   "source": [
    "print('\\nDataFrame After One Hot-Hot Encoding:')\n",
    "print(df)"
   ]
  },
  {
   "cell_type": "code",
   "execution_count": 26,
   "metadata": {},
   "outputs": [
    {
     "name": "stdout",
     "output_type": "stream",
     "text": [
      "\n",
      "DataFrame after Label Encoding 'Name':\n",
      "      Name    Age   Salary  City_New York  City_Pakistan  City_Turkey  \\\n",
      "0  Zeeshan  22.00  70000.0           True          False        False   \n",
      "1     Khan  21.25  80000.0          False          False        False   \n",
      "2   Ayesha  20.00  12000.0          False          False         True   \n",
      "3   Maryam  22.00  65000.0          False          False        False   \n",
      "4  Khattak  21.00  60000.0          False           True        False   \n",
      "\n",
      "   Name_encoded  \n",
      "0             4  \n",
      "1             1  \n",
      "2             0  \n",
      "3             3  \n",
      "4             2  \n"
     ]
    }
   ],
   "source": [
    "# Label Encoding for 'Name' (if necessary)\n",
    "label_encoder = LabelEncoder()\n",
    "df['Name_encoded'] = label_encoder.fit_transform(df['Name'])\n",
    "\n",
    "print(\"\\nDataFrame after Label Encoding 'Name':\")\n",
    "print(df)"
   ]
  },
  {
   "cell_type": "code",
   "execution_count": null,
   "metadata": {},
   "outputs": [],
   "source": []
  },
  {
   "cell_type": "markdown",
   "metadata": {},
   "source": [
    "Output Explanation:\n",
    "Original DataFrame:\n",
    "\n",
    "Contains missing values (NaN) in Age, City, and Salary columns.\n",
    "Handling Missing Values:\n",
    "\n",
    "Age: Missing values are imputed with the mean age.\n",
    "Salary: Missing values are imputed with the median salary.\n",
    "City: Missing values are imputed with the mode (most frequent city).\n",
    "Encoding Categorical Variables:\n",
    "\n",
    "One-Hot Encoding: Converts the City categorical column into binary columns for each category (excluding the first to avoid multicollinearity).\n",
    "Label Encoding: Assigns a unique integer to each category in the Name column."
   ]
  },
  {
   "cell_type": "markdown",
   "metadata": {},
   "source": []
  }
 ],
 "metadata": {
  "kernelspec": {
   "display_name": "Python 3",
   "language": "python",
   "name": "python3"
  },
  "language_info": {
   "codemirror_mode": {
    "name": "ipython",
    "version": 3
   },
   "file_extension": ".py",
   "mimetype": "text/x-python",
   "name": "python",
   "nbconvert_exporter": "python",
   "pygments_lexer": "ipython3",
   "version": "3.12.0"
  }
 },
 "nbformat": 4,
 "nbformat_minor": 2
}
